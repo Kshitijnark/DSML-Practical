{
 "cells": [
  {
   "cell_type": "code",
   "execution_count": 25,
   "metadata": {},
   "outputs": [],
   "source": [
    "import numpy as np\n",
    "m1=np.array([2,10])\n",
    "m2=np.array([5,8])\n",
    "m3=np.array([1,2])\n",
    "points={\n",
    "    'P1': np.array([2, 10]),\n",
    "    'P2': np.array([2, 5]),\n",
    "    'P3': np.array([8, 4]),\n",
    "    'P4': np.array([5, 8]),\n",
    "    'P5': np.array([7, 5]),\n",
    "    'P6': np.array([6, 4]),\n",
    "    'P7': np.array([1, 2]),\n",
    "    'P8': np.array([4, 9])      \n",
    "}"
   ]
  },
  {
   "cell_type": "code",
   "execution_count": 26,
   "metadata": {},
   "outputs": [],
   "source": [
    "\n",
    "def eu_distance(p1,p2):\n",
    "    return np.sqrt(np.sum((p1-p2)**2))\n"
   ]
  },
  {
   "cell_type": "code",
   "execution_count": 27,
   "metadata": {},
   "outputs": [],
   "source": [
    "cluster1=[]\n",
    "cluster2=[]\n",
    "cluster3=[]\n",
    "for name,point in points.items():\n",
    "    dist_from_m1=eu_distance(point, m1)\n",
    "    dist_from_m2=eu_distance(point, m2)\n",
    "    dist_from_m3=eu_distance(point, m3)\n",
    "    if(dist_from_m1<dist_from_m2 and dist_from_m1<dist_from_m3):\n",
    "        cluster1.append(name)\n",
    "    elif(dist_from_m2<dist_from_m1 and dist_from_m2<dist_from_m3):\n",
    "        cluster2.append(name)\n",
    "    else :\n",
    "        cluster3.append(name)"
   ]
  },
  {
   "cell_type": "code",
   "execution_count": 28,
   "metadata": {},
   "outputs": [
    {
     "name": "stdout",
     "output_type": "stream",
     "text": [
      "p6 is present in cluster 3\n"
     ]
    }
   ],
   "source": [
    "# Answers of questions\n",
    "if 'p6' in cluster1: \n",
    "    print(\"p6 is present in cluster 1\")\n",
    "if 'p6' in cluster2: \n",
    "    print(\"p6 is present in cluster 2\")\n",
    "else:\n",
    "    print(\"p6 is present in cluster 3\")    "
   ]
  },
  {
   "cell_type": "code",
   "execution_count": 29,
   "metadata": {},
   "outputs": [
    {
     "name": "stdout",
     "output_type": "stream",
     "text": [
      "The population of around m2 is : 2\n"
     ]
    }
   ],
   "source": [
    "print(\"The population of around m2 is :\",len(cluster3))"
   ]
  },
  {
   "cell_type": "code",
   "execution_count": 30,
   "metadata": {},
   "outputs": [
    {
     "name": "stdout",
     "output_type": "stream",
     "text": [
      "Updated values of m1 and m2\n",
      "New m1 :  2.0 10.0\n",
      "New m2 : 6.0 6.0\n",
      "New m3 : 1.5 3.5\n"
     ]
    }
   ],
   "source": [
    "print(\"Updated values of m1 and m2\")\n",
    "x=0\n",
    "y=0\n",
    "a=0\n",
    "b=0\n",
    "c=0\n",
    "d=0\n",
    "for i in cluster1:\n",
    "    x=x+points[i][0]\n",
    "    y=y+points[i][1]\n",
    "for i in cluster2:\n",
    "    a=a+points[i][0]\n",
    "    b=b+points[i][1]\n",
    "for i in cluster3:\n",
    "    c=c+points[i][0]\n",
    "    d=d+points[i][1]\n",
    "print(\"New m1 : \",x/len(cluster1),y/len(cluster1))\n",
    "print(\"New m2 :\",a/len(cluster2),b/len(cluster2))\n",
    "print(\"New m3 :\",c/len(cluster3),d/len(cluster3))"
   ]
  }
 ],
 "metadata": {
  "kernelspec": {
   "display_name": "Python 3",
   "language": "python",
   "name": "python3"
  },
  "language_info": {
   "codemirror_mode": {
    "name": "ipython",
    "version": 3
   },
   "file_extension": ".py",
   "mimetype": "text/x-python",
   "name": "python",
   "nbconvert_exporter": "python",
   "pygments_lexer": "ipython3",
   "version": "3.10.6"
  }
 },
 "nbformat": 4,
 "nbformat_minor": 2
}
