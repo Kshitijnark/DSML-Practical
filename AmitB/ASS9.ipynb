{
 "cells": [
  {
   "cell_type": "code",
   "execution_count": 159,
   "metadata": {},
   "outputs": [],
   "source": [
    "import numpy as np\n",
    "m1=np.array([0.1,0.6])\n",
    "m2=np.array([0.3,0.2])\n",
    "points={\n",
    "    'P1': np.array([0.1, 0.6]),\n",
    "    'P2': np.array([0.15, 0.71]),\n",
    "    'P3': np.array([0.08, 0.9]),\n",
    "    'P4': np.array([0.16, 0.85]),\n",
    "    'P5': np.array([0.2, 0.3]),\n",
    "    'P6': np.array([0.25, 0.5]),\n",
    "    'P7': np.array([0.24, 0.1]),\n",
    "    'P8': np.array([0.3, 0.2])      \n",
    "}"
   ]
  },
  {
   "cell_type": "code",
   "execution_count": 160,
   "metadata": {},
   "outputs": [],
   "source": [
    "\n",
    "def eu_distance(p1,p2):\n",
    "    return np.sqrt(np.sum((p1-p2)**2))\n"
   ]
  },
  {
   "cell_type": "markdown",
   "metadata": {},
   "source": []
  },
  {
   "cell_type": "code",
   "execution_count": 161,
   "metadata": {},
   "outputs": [],
   "source": [
    "cluster1=[]\n",
    "cluster2=[]\n",
    "for name,point in points.items():\n",
    "    dist_from_m1=eu_distance(point, m1)\n",
    "    dist_from_m2=eu_distance(point, m2)\n",
    "    if(dist_from_m1<dist_from_m2):\n",
    "        cluster1.append(name)\n",
    "    else:\n",
    "        cluster2.append(name)"
   ]
  },
  {
   "cell_type": "code",
   "execution_count": 162,
   "metadata": {},
   "outputs": [
    {
     "name": "stdout",
     "output_type": "stream",
     "text": [
      "p6 is present in cluster 2\n"
     ]
    }
   ],
   "source": [
    "# Answers of questions\n",
    "if 'p6' in cluster1: \n",
    "    print(\"p6 is present in cluster 1\")\n",
    "else:\n",
    "    print(\"p6 is present in cluster 2\")    "
   ]
  },
  {
   "cell_type": "code",
   "execution_count": 163,
   "metadata": {},
   "outputs": [
    {
     "name": "stdout",
     "output_type": "stream",
     "text": [
      "The population of around m2 is : 3\n"
     ]
    }
   ],
   "source": [
    "print(\"The population of around m2 is :\",len(cluster2))"
   ]
  },
  {
   "cell_type": "code",
   "execution_count": 164,
   "metadata": {},
   "outputs": [
    {
     "name": "stdout",
     "output_type": "stream",
     "text": [
      "Updated values of m1 and m2\n",
      "New m1 :  0.148 0.712\n",
      "New m2 : 0.24666666666666667 0.20000000000000004\n"
     ]
    }
   ],
   "source": [
    "print(\"Updated values of m1 and m2\")\n",
    "x=0\n",
    "y=0\n",
    "a=0\n",
    "b=0\n",
    "for i in cluster1:\n",
    "    x=x+points[i][0]\n",
    "    y=y+points[i][1]\n",
    "for i in cluster2:\n",
    "    a=a+points[i][0]\n",
    "    b=b+points[i][1]\n",
    "print(\"New m1 : \",x/len(cluster1),y/len(cluster1))\n",
    "print(\"New m2 :\",a/len(cluster2),b/len(cluster2))"
   ]
  },
  {
   "cell_type": "code",
   "execution_count": null,
   "metadata": {},
   "outputs": [],
   "source": []
  }
 ],
 "metadata": {
  "kernelspec": {
   "display_name": "Python 3",
   "language": "python",
   "name": "python3"
  },
  "language_info": {
   "codemirror_mode": {
    "name": "ipython",
    "version": 3
   },
   "file_extension": ".py",
   "mimetype": "text/x-python",
   "name": "python",
   "nbconvert_exporter": "python",
   "pygments_lexer": "ipython3",
   "version": "3.10.6"
  }
 },
 "nbformat": 4,
 "nbformat_minor": 2
}
