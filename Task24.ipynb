{
 "cells": [
  {
   "cell_type": "markdown",
   "metadata": {},
   "source": [
    "24. Perform the following operations using Python on a suitable data set,\n",
    "counting unique values of data, format of each column, converting variable\n",
    "data type (e.g. from long to short, vice versa), identifying missing values\n",
    "and filling in the missing values."
   ]
  },
  {
   "cell_type": "code",
   "execution_count": null,
   "metadata": {},
   "outputs": [],
   "source": []
  }
 ],
 "metadata": {
  "language_info": {
   "name": "python"
  },
  "orig_nbformat": 4
 },
 "nbformat": 4,
 "nbformat_minor": 2
}
