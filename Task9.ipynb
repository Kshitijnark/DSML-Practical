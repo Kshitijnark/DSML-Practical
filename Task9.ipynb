{
 "cells": [
  {
   "cell_type": "markdown",
   "metadata": {},
   "source": [
    "Write a program to do the following: You have given a collection of 8 points. P1=[0.1,0.6] P2=[0.15,0.71] P3=[0.08,0.9] P4=[0.16, 0.85] P5=[0.2,0.3] P6=[0.25,0.5] P7=[0.24,0.1] P8=[0.3,0.2]. Perform the k-mean clustering with initial centroids as m1=P1 =Cluster#1=C1 and m2=P8=cluster#2=C2. Answer the following 1] Which cluster does P6 belong to? 2] What is the population of a cluster around m2? 3] What is the updated value of m1 and m2?"
   ]
  },
  {
   "cell_type": "code",
   "execution_count": 1,
   "metadata": {},
   "outputs": [
    {
     "name": "stdout",
     "output_type": "stream",
     "text": [
      "Loaded the required libraries...\n"
     ]
    }
   ],
   "source": [
    "import pandas as pd\n",
    "import matplotlib.pyplot as plt\n",
    "\n",
    "print(\"Loaded the required libraries...\")"
   ]
  },
  {
   "cell_type": "code",
   "execution_count": 2,
   "metadata": {},
   "outputs": [
    {
     "data": {
      "text/html": [
       "<div>\n",
       "<style scoped>\n",
       "    .dataframe tbody tr th:only-of-type {\n",
       "        vertical-align: middle;\n",
       "    }\n",
       "\n",
       "    .dataframe tbody tr th {\n",
       "        vertical-align: top;\n",
       "    }\n",
       "\n",
       "    .dataframe thead th {\n",
       "        text-align: right;\n",
       "    }\n",
       "</style>\n",
       "<table border=\"1\" class=\"dataframe\">\n",
       "  <thead>\n",
       "    <tr style=\"text-align: right;\">\n",
       "      <th></th>\n",
       "      <th>Points</th>\n",
       "      <th>V1</th>\n",
       "      <th>V2</th>\n",
       "    </tr>\n",
       "  </thead>\n",
       "  <tbody>\n",
       "    <tr>\n",
       "      <th>0</th>\n",
       "      <td>P1</td>\n",
       "      <td>0.10</td>\n",
       "      <td>0.60</td>\n",
       "    </tr>\n",
       "    <tr>\n",
       "      <th>1</th>\n",
       "      <td>P2</td>\n",
       "      <td>0.15</td>\n",
       "      <td>0.71</td>\n",
       "    </tr>\n",
       "    <tr>\n",
       "      <th>2</th>\n",
       "      <td>P3</td>\n",
       "      <td>0.08</td>\n",
       "      <td>0.90</td>\n",
       "    </tr>\n",
       "    <tr>\n",
       "      <th>3</th>\n",
       "      <td>P4</td>\n",
       "      <td>0.16</td>\n",
       "      <td>0.85</td>\n",
       "    </tr>\n",
       "    <tr>\n",
       "      <th>4</th>\n",
       "      <td>P5</td>\n",
       "      <td>0.20</td>\n",
       "      <td>0.30</td>\n",
       "    </tr>\n",
       "    <tr>\n",
       "      <th>5</th>\n",
       "      <td>P6</td>\n",
       "      <td>0.25</td>\n",
       "      <td>0.50</td>\n",
       "    </tr>\n",
       "    <tr>\n",
       "      <th>6</th>\n",
       "      <td>P7</td>\n",
       "      <td>0.24</td>\n",
       "      <td>0.10</td>\n",
       "    </tr>\n",
       "    <tr>\n",
       "      <th>7</th>\n",
       "      <td>P8</td>\n",
       "      <td>0.30</td>\n",
       "      <td>0.20</td>\n",
       "    </tr>\n",
       "  </tbody>\n",
       "</table>\n",
       "</div>"
      ],
      "text/plain": [
       "  Points    V1    V2\n",
       "0     P1  0.10  0.60\n",
       "1     P2  0.15  0.71\n",
       "2     P3  0.08  0.90\n",
       "3     P4  0.16  0.85\n",
       "4     P5  0.20  0.30\n",
       "5     P6  0.25  0.50\n",
       "6     P7  0.24  0.10\n",
       "7     P8  0.30  0.20"
      ]
     },
     "execution_count": 2,
     "metadata": {},
     "output_type": "execute_result"
    }
   ],
   "source": [
    "df = pd.DataFrame({\"Points\": [\"P1\",\"P2\",\"P3\",\"P4\",\"P5\",\"P6\",\"P7\",\"P8\"],\"V1\": [0.1,0.15,0.08,0.16,0.2,0.25,0.24,0.3],\"V2\": [0.6,0.71,0.9,0.85,0.3,0.5,0.1,0.2]})\n",
    "\n",
    "df"
   ]
  },
  {
   "cell_type": "code",
   "execution_count": 3,
   "metadata": {},
   "outputs": [
    {
     "data": {
      "text/html": [
       "<div>\n",
       "<style scoped>\n",
       "    .dataframe tbody tr th:only-of-type {\n",
       "        vertical-align: middle;\n",
       "    }\n",
       "\n",
       "    .dataframe tbody tr th {\n",
       "        vertical-align: top;\n",
       "    }\n",
       "\n",
       "    .dataframe thead th {\n",
       "        text-align: right;\n",
       "    }\n",
       "</style>\n",
       "<table border=\"1\" class=\"dataframe\">\n",
       "  <thead>\n",
       "    <tr style=\"text-align: right;\">\n",
       "      <th></th>\n",
       "      <th>V1</th>\n",
       "      <th>V2</th>\n",
       "    </tr>\n",
       "  </thead>\n",
       "  <tbody>\n",
       "    <tr>\n",
       "      <th>count</th>\n",
       "      <td>8.000000</td>\n",
       "      <td>8.000000</td>\n",
       "    </tr>\n",
       "    <tr>\n",
       "      <th>mean</th>\n",
       "      <td>0.185000</td>\n",
       "      <td>0.520000</td>\n",
       "    </tr>\n",
       "    <tr>\n",
       "      <th>std</th>\n",
       "      <td>0.076345</td>\n",
       "      <td>0.298424</td>\n",
       "    </tr>\n",
       "    <tr>\n",
       "      <th>min</th>\n",
       "      <td>0.080000</td>\n",
       "      <td>0.100000</td>\n",
       "    </tr>\n",
       "    <tr>\n",
       "      <th>25%</th>\n",
       "      <td>0.137500</td>\n",
       "      <td>0.275000</td>\n",
       "    </tr>\n",
       "    <tr>\n",
       "      <th>50%</th>\n",
       "      <td>0.180000</td>\n",
       "      <td>0.550000</td>\n",
       "    </tr>\n",
       "    <tr>\n",
       "      <th>75%</th>\n",
       "      <td>0.242500</td>\n",
       "      <td>0.745000</td>\n",
       "    </tr>\n",
       "    <tr>\n",
       "      <th>max</th>\n",
       "      <td>0.300000</td>\n",
       "      <td>0.900000</td>\n",
       "    </tr>\n",
       "  </tbody>\n",
       "</table>\n",
       "</div>"
      ],
      "text/plain": [
       "             V1        V2\n",
       "count  8.000000  8.000000\n",
       "mean   0.185000  0.520000\n",
       "std    0.076345  0.298424\n",
       "min    0.080000  0.100000\n",
       "25%    0.137500  0.275000\n",
       "50%    0.180000  0.550000\n",
       "75%    0.242500  0.745000\n",
       "max    0.300000  0.900000"
      ]
     },
     "execution_count": 3,
     "metadata": {},
     "output_type": "execute_result"
    }
   ],
   "source": [
    "df.describe()"
   ]
  },
  {
   "cell_type": "code",
   "execution_count": 4,
   "metadata": {},
   "outputs": [
    {
     "name": "stdout",
     "output_type": "stream",
     "text": [
      "First cluster :  [0.1, 0.6]\n",
      "Second cluster :  [0.3, 0.2]\n"
     ]
    },
    {
     "data": {
      "text/plain": [
       "8"
      ]
     },
     "execution_count": 4,
     "metadata": {},
     "output_type": "execute_result"
    }
   ],
   "source": [
    "# define the clusters\n",
    "k1 = [df['V1'][0],df['V2'][0]]\n",
    "k2 = [df['V1'][7],df['V2'][7]]\n",
    "print(f\"First cluster :  {k1}\")\n",
    "print(f\"Second cluster :  {k2}\")\n",
    "df.shape[0]\n"
   ]
  },
  {
   "cell_type": "markdown",
   "metadata": {},
   "source": [
    "## Data Visualization"
   ]
  },
  {
   "cell_type": "code",
   "execution_count": 5,
   "metadata": {},
   "outputs": [
    {
     "data": {
      "image/png": "[encoded data removed]",
      "text/plain": [
       "<Figure size 432x288 with 1 Axes>"
      ]
     },
     "metadata": {
      "needs_background": "light"
     },
     "output_type": "display_data"
    }
   ],
   "source": [
    "# showing the data graphically\n",
    "\n",
    "# title\n",
    "plt.title(\"Points\")\n",
    "# plot\n",
    "plt.scatter(df['V1'],df['V2'], color='purple', marker=\"o\")\n",
    "# x and y labels\n",
    "plt.xlabel(\"x co-ordinate\")\n",
    "plt.ylabel(\"y co-ordinate\")\n",
    "# show the graph\n",
    "plt.show()"
   ]
  },
  {
   "cell_type": "code",
   "execution_count": 6,
   "metadata": {},
   "outputs": [
    {
     "name": "stdout",
     "output_type": "stream",
     "text": [
      "     V1    V2\n",
      "0  0.10  0.60\n",
      "1  0.15  0.71\n",
      "2  0.08  0.90\n",
      "3  0.16  0.85\n",
      "4  0.25  0.50\n",
      "     V1   V2\n",
      "0  0.20  0.3\n",
      "1  0.24  0.1\n",
      "2  0.30  0.2\n",
      "[0.148, 0.712] [0.24666666666666667, 0.20000000000000004]\n",
      "for Iteration 0\n",
      "     V1    V2\n",
      "0  0.10  0.60\n",
      "1  0.15  0.71\n",
      "2  0.08  0.90\n",
      "3  0.16  0.85\n",
      "\n",
      "     V1   V2\n",
      "0  0.20  0.3\n",
      "1  0.25  0.5\n",
      "2  0.24  0.1\n",
      "3  0.30  0.2\n",
      "[0.1225, 0.765] [0.2475, 0.275]\n",
      "for Iteration 1\n",
      "     V1    V2\n",
      "0  0.10  0.60\n",
      "1  0.15  0.71\n",
      "2  0.08  0.90\n",
      "3  0.16  0.85\n",
      "\n",
      "     V1   V2\n",
      "0  0.20  0.3\n",
      "1  0.25  0.5\n",
      "2  0.24  0.1\n",
      "3  0.30  0.2\n"
     ]
    }
   ],
   "source": [
    "distfromC1 = []\n",
    "distfromC2 = []\n",
    "\n",
    "def manhattanDistance(x1, y1, x2, y2):\n",
    "    x = abs(x2 - x1)\n",
    "    y = abs(y2 - y1)\n",
    "    dist = x + y\n",
    "    return dist\n",
    "\n",
    "def getTheDistances(k1,k2,DataFrame):\n",
    "    idx = 0\n",
    "    list1 = []\n",
    "    list2 = []\n",
    "    while(idx < DataFrame.shape[0]):\n",
    "        Cluster1Val = manhattanDistance(k1[0],k1[1],DataFrame['V1'][idx],DataFrame['V2'][idx])\n",
    "        Cluster2Val = manhattanDistance(k2[0],k2[1],DataFrame['V1'][idx],DataFrame['V2'][idx])\n",
    "        list1.append(Cluster1Val)\n",
    "        list2.append(Cluster2Val)\n",
    "        idx = idx + 1\n",
    "    return list1,list2\n",
    "\n",
    "distfromC1,distfromC2 = getTheDistances(k1,k2,df)\n",
    "\n",
    "# print(distfromC1,distfromC2)\n",
    "\n",
    "def assignTheCluster(distfromC1 = [],distfromC2 = [],dataframe = pd.DataFrame()):\n",
    "    F1list1 = [] # v1 for the cluster 1\n",
    "    F1list2 = [] # v2 for the cluster 1\n",
    "    F2list1 = [] # v1 for the cluster 2\n",
    "    F2list2 = [] # v2 for the cluster 2\n",
    "    idx = 0\n",
    "    while(idx < 8):\n",
    "        if(distfromC1[idx] < distfromC2[idx]):\n",
    "            F1list1.append(df['V1'][idx])\n",
    "            F1list2.append(df['V2'][idx])\n",
    "        else:\n",
    "            F2list1.append(df['V1'][idx])\n",
    "            F2list2.append(df['V2'][idx])\n",
    "        idx = idx + 1\n",
    "    clusterFrame1 = pd.DataFrame({'V1': F1list1,'V2': F1list2})\n",
    "    clusterFrame2 = pd.DataFrame({'V1': F2list1,'V2': F2list2})\n",
    "    return clusterFrame1,clusterFrame2\n",
    "\n",
    "k1frame, k2frame = assignTheCluster(distfromC1,distfromC2,df)\n",
    "\n",
    "# elements belonging to cluster 1\n",
    "# print(k1)\n",
    "print(k1frame)\n",
    "# # elements belonging to cluster 2\n",
    "# print(k2)\n",
    "print(k2frame)\n",
    "\n",
    "def loopAndUpdate(k1frame = pd.DataFrame(),k2frame = pd.DataFrame()):\n",
    "    noOfElementsInCluster1 = k1frame.shape[0]\n",
    "    noOfElementsInCluster2 = k2frame.shape[0]\n",
    "    updatedElementsForCluster1 = 9999\n",
    "    updatedElementsForCluster2 = 9999\n",
    "    iteration = 0\n",
    "    while((noOfElementsInCluster2 != updatedElementsForCluster2) and (noOfElementsInCluster1 != updatedElementsForCluster1)):\n",
    "        noOfElementsInCluster1 = k1frame.shape[0]\n",
    "        noOfElementsInCluster2 = k2frame.shape[0]\n",
    "        f1val1 = k1frame['V1'].mean()\n",
    "        f1val2 = k1frame['V2'].mean()\n",
    "        f2val1 = k2frame['V1'].mean()\n",
    "        f2val2 = k2frame['V2'].mean()\n",
    "        k1 = [f1val1,f1val2]\n",
    "        k2 = [f2val1,f2val2]\n",
    "        print(k1,k2)\n",
    "        dist1,dist2 = getTheDistances(k1,k2,df)\n",
    "        k1frame,k2frame = assignTheCluster(dist1,dist2,df)\n",
    "        print(f\"for Iteration {iteration}\")\n",
    "        print(k1frame)\n",
    "        print(f\"\\n{k2frame}\")\n",
    "        updatedElementsForCluster1 = k1frame.shape[0]\n",
    "        updatedElementsForCluster2 = k2frame.shape[0]\n",
    "        iteration = iteration + 1\n",
    "    return k1frame,k2frame\n",
    "    \n",
    "\n",
    "\n",
    "k1newFrame,k2newFrame = loopAndUpdate(k1frame,k2frame)"
   ]
  },
  {
   "cell_type": "code",
   "execution_count": 7,
   "metadata": {},
   "outputs": [
    {
     "data": {
      "text/html": [
       "<div>\n",
       "<style scoped>\n",
       "    .dataframe tbody tr th:only-of-type {\n",
       "        vertical-align: middle;\n",
       "    }\n",
       "\n",
       "    .dataframe tbody tr th {\n",
       "        vertical-align: top;\n",
       "    }\n",
       "\n",
       "    .dataframe thead th {\n",
       "        text-align: right;\n",
       "    }\n",
       "</style>\n",
       "<table border=\"1\" class=\"dataframe\">\n",
       "  <thead>\n",
       "    <tr style=\"text-align: right;\">\n",
       "      <th></th>\n",
       "      <th>V1</th>\n",
       "      <th>V2</th>\n",
       "    </tr>\n",
       "  </thead>\n",
       "  <tbody>\n",
       "    <tr>\n",
       "      <th>0</th>\n",
       "      <td>0.10</td>\n",
       "      <td>0.60</td>\n",
       "    </tr>\n",
       "    <tr>\n",
       "      <th>1</th>\n",
       "      <td>0.15</td>\n",
       "      <td>0.71</td>\n",
       "    </tr>\n",
       "    <tr>\n",
       "      <th>2</th>\n",
       "      <td>0.08</td>\n",
       "      <td>0.90</td>\n",
       "    </tr>\n",
       "    <tr>\n",
       "      <th>3</th>\n",
       "      <td>0.16</td>\n",
       "      <td>0.85</td>\n",
       "    </tr>\n",
       "  </tbody>\n",
       "</table>\n",
       "</div>"
      ],
      "text/plain": [
       "     V1    V2\n",
       "0  0.10  0.60\n",
       "1  0.15  0.71\n",
       "2  0.08  0.90\n",
       "3  0.16  0.85"
      ]
     },
     "execution_count": 7,
     "metadata": {},
     "output_type": "execute_result"
    }
   ],
   "source": [
    "k1newFrame"
   ]
  },
  {
   "cell_type": "code",
   "execution_count": 8,
   "metadata": {},
   "outputs": [
    {
     "data": {
      "text/html": [
       "<div>\n",
       "<style scoped>\n",
       "    .dataframe tbody tr th:only-of-type {\n",
       "        vertical-align: middle;\n",
       "    }\n",
       "\n",
       "    .dataframe tbody tr th {\n",
       "        vertical-align: top;\n",
       "    }\n",
       "\n",
       "    .dataframe thead th {\n",
       "        text-align: right;\n",
       "    }\n",
       "</style>\n",
       "<table border=\"1\" class=\"dataframe\">\n",
       "  <thead>\n",
       "    <tr style=\"text-align: right;\">\n",
       "      <th></th>\n",
       "      <th>V1</th>\n",
       "      <th>V2</th>\n",
       "    </tr>\n",
       "  </thead>\n",
       "  <tbody>\n",
       "    <tr>\n",
       "      <th>0</th>\n",
       "      <td>0.20</td>\n",
       "      <td>0.3</td>\n",
       "    </tr>\n",
       "    <tr>\n",
       "      <th>1</th>\n",
       "      <td>0.25</td>\n",
       "      <td>0.5</td>\n",
       "    </tr>\n",
       "    <tr>\n",
       "      <th>2</th>\n",
       "      <td>0.24</td>\n",
       "      <td>0.1</td>\n",
       "    </tr>\n",
       "    <tr>\n",
       "      <th>3</th>\n",
       "      <td>0.30</td>\n",
       "      <td>0.2</td>\n",
       "    </tr>\n",
       "  </tbody>\n",
       "</table>\n",
       "</div>"
      ],
      "text/plain": [
       "     V1   V2\n",
       "0  0.20  0.3\n",
       "1  0.25  0.5\n",
       "2  0.24  0.1\n",
       "3  0.30  0.2"
      ]
     },
     "execution_count": 8,
     "metadata": {},
     "output_type": "execute_result"
    }
   ],
   "source": [
    "k2newFrame"
   ]
  },
  {
   "cell_type": "code",
   "execution_count": 9,
   "metadata": {},
   "outputs": [
    {
     "data": {
      "image/png": "[encoded data removed]",
      "text/plain": [
       "<Figure size 432x288 with 1 Axes>"
      ]
     },
     "metadata": {
      "needs_background": "light"
     },
     "output_type": "display_data"
    }
   ],
   "source": [
    "\n",
    "# title\n",
    "plt.title(\"Results\")\n",
    "# plot\n",
    "plt.scatter(k1newFrame['V1'], k1newFrame[\"V2\"],color='red',marker='*',label=\"k1 \")\n",
    "plt.scatter(k2newFrame['V1'], k2newFrame[\"V2\"],color='purple',marker='^',label=\"k2\")\n",
    "# x and y labels\n",
    "plt.xlabel(\"X co-ordinate\")\n",
    "plt.ylabel(\"Y co-ordinate\")\n",
    "# save\n",
    "plt.savefig(\"results.jpg\")\n",
    "# display legend\n",
    "plt.legend()\n",
    "# show\n",
    "plt.show()"
   ]
  },
  {
   "cell_type": "code",
   "execution_count": null,
   "metadata": {},
   "outputs": [],
   "source": []
  }
 ],
 "metadata": {
  "kernelspec": {
   "display_name": "base",
   "language": "python",
   "name": "python3"
  },
  "language_info": {
   "codemirror_mode": {
    "name": "ipython",
    "version": 3
   },
   "file_extension": ".py",
   "mimetype": "text/x-python",
   "name": "python",
   "nbconvert_exporter": "python",
   "pygments_lexer": "ipython3",
   "version": "3.9.12"
  },
  "orig_nbformat": 4
 },
 "nbformat": 4,
 "nbformat_minor": 2
}
