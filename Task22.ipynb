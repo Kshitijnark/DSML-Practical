{
 "cells": [
  {
   "cell_type": "markdown",
   "metadata": {},
   "source": [
    "22. Compute Accuracy, Error rate, Precision, Recall for the following\n",
    "confusion matrix.\n",
    "Actual Class\\Predicted\n",
    "class\n",
    "\n",
    "##### cancer = yes 90 210 \n",
    "##### cancer = no 140 9560 \n",
    "\n"
   ]
  },
  {
   "cell_type": "code",
   "execution_count": 2,
   "metadata": {},
   "outputs": [
    {
     "name": "stdout",
     "output_type": "stream",
     "text": [
      "Accuracy : 0.965\n",
      "Error : 0.035\n",
      "Precision : 0.391304347826087\n",
      "Recall : 0.3\n"
     ]
    }
   ],
   "source": [
    "TP = 90\n",
    "TN = 9560 \n",
    "FN = 210\n",
    "FP =  140\n",
    "\n",
    "print(f\"Accuracy : {(TP + TN)/(TP+TN+FN+FP)}\")\n",
    "print(f\"Error : {(FP + FN)/(TP+TN+FN+FP)}\")\n",
    "print(f\"Precision : {(TP)/(TP+FP)}\")\n",
    "print(f\"Recall : {(TP)/(TP+FN)}\")"
   ]
  },
  {
   "cell_type": "code",
   "execution_count": null,
   "metadata": {},
   "outputs": [],
   "source": []
  }
 ],
 "metadata": {
  "kernelspec": {
   "display_name": "base",
   "language": "python",
   "name": "python3"
  },
  "language_info": {
   "codemirror_mode": {
    "name": "ipython",
    "version": 3
   },
   "file_extension": ".py",
   "mimetype": "text/x-python",
   "name": "python",
   "nbconvert_exporter": "python",
   "pygments_lexer": "ipython3",
   "version": "3.9.12"
  },
  "orig_nbformat": 4
 },
 "nbformat": 4,
 "nbformat_minor": 2
}
