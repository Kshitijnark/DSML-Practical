{
 "cells": [
  {
   "cell_type": "markdown",
   "metadata": {},
   "source": [
    "17. Compute Accuracy, Error rate, Precision, Recall for following confusion\n",
    "matrix ( Use formula for each)\n",
    "### True Positives (TPs): 1 False Positives (FPs): 1\n",
    "### False Negatives (FNs): 8 True Negatives (TNs): 90\n",
    "\n"
   ]
  },
  {
   "cell_type": "code",
   "execution_count": 1,
   "metadata": {},
   "outputs": [
    {
     "name": "stdout",
     "output_type": "stream",
     "text": [
      "Done!\n"
     ]
    }
   ],
   "source": [
    "import numpy as np\n",
    "import pandas as pd \n",
    "import matplotlib.pyplot as plt\n",
    "import seaborn as sn\n",
    "from sklearn.metrics import confusion_matrix \n",
    "print(\"Done!\")"
   ]
  },
  {
   "cell_type": "code",
   "execution_count": 8,
   "metadata": {},
   "outputs": [
    {
     "data": {
      "image/png": "[encoded data removed]",
      "text/plain": [
       "<Figure size 432x288 with 2 Axes>"
      ]
     },
     "metadata": {
      "needs_background": "light"
     },
     "output_type": "display_data"
    }
   ],
   "source": [
    "y_test = pd.DataFrame({'P':[8]})\n",
    "y_pred = pd.DataFrame({'P':[1]})\n",
    "\n",
    "cm = confusion_matrix(y_test,y_pred)\n",
    "\n",
    "sn.heatmap(cm,annot=True)\n",
    "plt.show()"
   ]
  },
  {
   "cell_type": "code",
   "execution_count": 3,
   "metadata": {},
   "outputs": [
    {
     "name": "stdout",
     "output_type": "stream",
     "text": [
      "Accuracy : 0.91\n",
      "Error : 0.09\n",
      "Precision : 0.5\n",
      "Recall : 0.1111111111111111\n"
     ]
    }
   ],
   "source": [
    "TP = 1\n",
    "TN = 90 \n",
    "FN = 8\n",
    "FP = 1 #\n",
    "\n",
    "print(f\"Accuracy : {(TP + TN)/(TP+TN+FN+FP)}\")\n",
    "print(f\"Error : {(FP + FN)/(TP+TN+FN+FP)}\")\n",
    "print(f\"Precision : {(TP)/(TP+FP)}\")\n",
    "print(f\"Recall : {(TP)/(TP+FN)}\")"
   ]
  }
 ],
 "metadata": {
  "kernelspec": {
   "display_name": "base",
   "language": "python",
   "name": "python3"
  },
  "language_info": {
   "codemirror_mode": {
    "name": "ipython",
    "version": 3
   },
   "file_extension": ".py",
   "mimetype": "text/x-python",
   "name": "python",
   "nbconvert_exporter": "python",
   "pygments_lexer": "ipython3",
   "version": "3.9.12"
  },
  "orig_nbformat": 4
 },
 "nbformat": 4,
 "nbformat_minor": 2
}
